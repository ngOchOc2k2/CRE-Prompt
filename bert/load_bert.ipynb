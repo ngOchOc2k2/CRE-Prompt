{
 "cells": [
  {
   "cell_type": "code",
   "execution_count": null,
   "metadata": {},
   "outputs": [],
   "source": [
    "from modeling_bert import BertModel\n",
    "\n",
    "model = BertModel.from_pretrained('bert-base-uncased')"
   ]
  },
  {
   "cell_type": "code",
   "execution_count": 4,
   "metadata": {},
   "outputs": [
    {
     "name": "stdout",
     "output_type": "stream",
     "text": [
      "Prompt exists and its value is: Hello, world!\n",
      "Prompt does not exist\n"
     ]
    }
   ],
   "source": [
    "class ExampleClass:\n",
    "    def __init__(self, prompt=None):\n",
    "        if prompt is not None:\n",
    "            self.prompt = prompt\n",
    "\n",
    "    def check_prompt(self):\n",
    "        if hasattr(self, 'prompt'):\n",
    "            print(\"Prompt exists and its value is:\", self.prompt)\n",
    "        else:\n",
    "            print(\"Prompt does not exist\")\n",
    "\n",
    "obj_with_prompt = ExampleClass(prompt=\"Hello, world!\")\n",
    "obj_with_prompt.check_prompt()  # Output: Prompt exists and its value is: Hello, world!\n",
    "\n",
    "obj_without_prompt = ExampleClass()\n",
    "obj_without_prompt.check_prompt()  # Output: Prompt does not exist\n"
   ]
  }
 ],
 "metadata": {
  "kernelspec": {
   "display_name": "ngoclt",
   "language": "python",
   "name": "python3"
  },
  "language_info": {
   "codemirror_mode": {
    "name": "ipython",
    "version": 3
   },
   "file_extension": ".py",
   "mimetype": "text/x-python",
   "name": "python",
   "nbconvert_exporter": "python",
   "pygments_lexer": "ipython3",
   "version": "3.10.14"
  }
 },
 "nbformat": 4,
 "nbformat_minor": 2
}
